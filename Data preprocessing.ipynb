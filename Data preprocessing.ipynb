{
 "cells": [
  {
   "cell_type": "code",
   "execution_count": 28,
   "id": "af8eea42-19b8-4b06-8ae7-f3ee06fb1fa8",
   "metadata": {},
   "outputs": [],
   "source": [
    "import pandas as pd\n",
    "import numpy as np\n",
    "\n",
    "# Load the data\n",
    "df = pd.read_csv('dataset.csv')"
   ]
  },
  {
   "cell_type": "code",
   "execution_count": 32,
   "id": "d776a859-7cd1-463f-afe3-b5b8c87b8494",
   "metadata": {},
   "outputs": [
    {
     "data": {
      "text/plain": [
       "Index([], dtype='int64')"
      ]
     },
     "execution_count": 32,
     "metadata": {},
     "output_type": "execute_result"
    }
   ],
   "source": [
    "# Handling Missing Values\n",
    "\n",
    "# Check if each row has missing values\n",
    "missing_values_rows = df.isnull().any(axis=1)\n",
    "\n",
    "# Display rows with missing values\n",
    "df[missing_values_rows].index"
   ]
  },
  {
   "cell_type": "code",
   "execution_count": 3,
   "id": "8e46614b-e692-48a6-90ec-ce851466bcf3",
   "metadata": {
    "scrolled": true
   },
   "outputs": [
    {
     "data": {
      "text/html": [
       "<div>\n",
       "<style scoped>\n",
       "    .dataframe tbody tr th:only-of-type {\n",
       "        vertical-align: middle;\n",
       "    }\n",
       "\n",
       "    .dataframe tbody tr th {\n",
       "        vertical-align: top;\n",
       "    }\n",
       "\n",
       "    .dataframe thead th {\n",
       "        text-align: right;\n",
       "    }\n",
       "</style>\n",
       "<table border=\"1\" class=\"dataframe\">\n",
       "  <thead>\n",
       "    <tr style=\"text-align: right;\">\n",
       "      <th></th>\n",
       "      <th>q1</th>\n",
       "      <th>q2</th>\n",
       "      <th>q3</th>\n",
       "      <th>q4</th>\n",
       "      <th>q5a</th>\n",
       "      <th>q5b</th>\n",
       "      <th>q5c</th>\n",
       "      <th>q5d</th>\n",
       "      <th>q5e</th>\n",
       "      <th>q5f</th>\n",
       "      <th>...</th>\n",
       "      <th>q6g</th>\n",
       "      <th>q6h</th>\n",
       "      <th>q7</th>\n",
       "      <th>q8</th>\n",
       "      <th>q9</th>\n",
       "      <th>q10</th>\n",
       "      <th>q11</th>\n",
       "      <th>q12</th>\n",
       "      <th>q13</th>\n",
       "      <th>Total</th>\n",
       "    </tr>\n",
       "  </thead>\n",
       "  <tbody>\n",
       "    <tr>\n",
       "      <th>0</th>\n",
       "      <td>1</td>\n",
       "      <td>I have used OpenRice.</td>\n",
       "      <td>I have commented restaurants.</td>\n",
       "      <td>Restaurant Information (e.g. Introduction, Add...</td>\n",
       "      <td>Restaurant Information (e.g. Introduction, Add...</td>\n",
       "      <td>Extremely Important</td>\n",
       "      <td>Extremely Important</td>\n",
       "      <td>Very Important</td>\n",
       "      <td>Very Important</td>\n",
       "      <td>Very Important</td>\n",
       "      <td>...</td>\n",
       "      <td>Strongly Agree</td>\n",
       "      <td>Agree</td>\n",
       "      <td>Female</td>\n",
       "      <td>25 - 34</td>\n",
       "      <td>Bachelor's degree</td>\n",
       "      <td>Employed Part-Time</td>\n",
       "      <td>Very Satisfied</td>\n",
       "      <td>Satisfied</td>\n",
       "      <td>肥姐小食店</td>\n",
       "      <td>79</td>\n",
       "    </tr>\n",
       "    <tr>\n",
       "      <th>1</th>\n",
       "      <td>2</td>\n",
       "      <td>I have used OpenRice.</td>\n",
       "      <td>I have commented restaurants.</td>\n",
       "      <td>Restaurant Information (e.g. Introduction, Add...</td>\n",
       "      <td>Comments from Other Users→Appealing images→Det...</td>\n",
       "      <td>Slightly Important</td>\n",
       "      <td>Not Important at All</td>\n",
       "      <td>Not Important at All</td>\n",
       "      <td>Very Important</td>\n",
       "      <td>Slightly Important</td>\n",
       "      <td>...</td>\n",
       "      <td>Strongly Disagree</td>\n",
       "      <td>Normal</td>\n",
       "      <td>Female</td>\n",
       "      <td>45 - 54</td>\n",
       "      <td>Primary school</td>\n",
       "      <td>Seeking opportunities</td>\n",
       "      <td>Satisfied</td>\n",
       "      <td>Normal</td>\n",
       "      <td>裕興咖啡</td>\n",
       "      <td>46</td>\n",
       "    </tr>\n",
       "    <tr>\n",
       "      <th>2</th>\n",
       "      <td>3</td>\n",
       "      <td>I have used OpenRice.</td>\n",
       "      <td>I have commented restaurants.</td>\n",
       "      <td>Restaurant Information (e.g. Introduction, Add...</td>\n",
       "      <td>(空)→Detailed Menu→Pricing→Restaurant Informati...</td>\n",
       "      <td>Very Important</td>\n",
       "      <td>Very Important</td>\n",
       "      <td>Moderately Important</td>\n",
       "      <td>Very Important</td>\n",
       "      <td>Extremely Important</td>\n",
       "      <td>...</td>\n",
       "      <td>Strongly Agree</td>\n",
       "      <td>Strongly Agree</td>\n",
       "      <td>Female</td>\n",
       "      <td>25 - 34</td>\n",
       "      <td>Bachelor's degree</td>\n",
       "      <td>Employed Part-Time</td>\n",
       "      <td>Normal</td>\n",
       "      <td>Satisfied</td>\n",
       "      <td>瑞記咖啡</td>\n",
       "      <td>83</td>\n",
       "    </tr>\n",
       "    <tr>\n",
       "      <th>3</th>\n",
       "      <td>4</td>\n",
       "      <td>I have used OpenRice.</td>\n",
       "      <td>I have commented restaurants.</td>\n",
       "      <td>Pricing┋Appealing images┋Detailed Menu</td>\n",
       "      <td>Detailed Menu→Appealing images→Restaurant Info...</td>\n",
       "      <td>Very Important</td>\n",
       "      <td>Very Important</td>\n",
       "      <td>Very Important</td>\n",
       "      <td>Extremely Important</td>\n",
       "      <td>Extremely Important</td>\n",
       "      <td>...</td>\n",
       "      <td>Agree</td>\n",
       "      <td>Agree</td>\n",
       "      <td>Male</td>\n",
       "      <td>55 - 64</td>\n",
       "      <td>Primary school</td>\n",
       "      <td>Employed Full-Time</td>\n",
       "      <td>Very Unsatisfied</td>\n",
       "      <td>Satisfied</td>\n",
       "      <td>靠得住</td>\n",
       "      <td>80</td>\n",
       "    </tr>\n",
       "    <tr>\n",
       "      <th>4</th>\n",
       "      <td>5</td>\n",
       "      <td>I have used OpenRice.</td>\n",
       "      <td>I have commented restaurants.</td>\n",
       "      <td>Restaurant Information (e.g. Introduction, Add...</td>\n",
       "      <td>Pricing→Appealing images→Discounts or Promotio...</td>\n",
       "      <td>Very Important</td>\n",
       "      <td>Very Important</td>\n",
       "      <td>Very Important</td>\n",
       "      <td>Very Important</td>\n",
       "      <td>Extremely Important</td>\n",
       "      <td>...</td>\n",
       "      <td>Agree</td>\n",
       "      <td>Agree</td>\n",
       "      <td>Female</td>\n",
       "      <td>45 - 54</td>\n",
       "      <td>Primary school</td>\n",
       "      <td>Employed Part-Time</td>\n",
       "      <td>Satisfied</td>\n",
       "      <td>Very Satisfied</td>\n",
       "      <td>利強記北角雞蛋仔</td>\n",
       "      <td>85</td>\n",
       "    </tr>\n",
       "  </tbody>\n",
       "</table>\n",
       "<p>5 rows × 30 columns</p>\n",
       "</div>"
      ],
      "text/plain": [
       "   q1                     q2                             q3  \\\n",
       "0   1  I have used OpenRice.  I have commented restaurants.   \n",
       "1   2  I have used OpenRice.  I have commented restaurants.   \n",
       "2   3  I have used OpenRice.  I have commented restaurants.   \n",
       "3   4  I have used OpenRice.  I have commented restaurants.   \n",
       "4   5  I have used OpenRice.  I have commented restaurants.   \n",
       "\n",
       "                                                  q4  \\\n",
       "0  Restaurant Information (e.g. Introduction, Add...   \n",
       "1  Restaurant Information (e.g. Introduction, Add...   \n",
       "2  Restaurant Information (e.g. Introduction, Add...   \n",
       "3             Pricing┋Appealing images┋Detailed Menu   \n",
       "4  Restaurant Information (e.g. Introduction, Add...   \n",
       "\n",
       "                                                 q5a                  q5b  \\\n",
       "0  Restaurant Information (e.g. Introduction, Add...  Extremely Important   \n",
       "1  Comments from Other Users→Appealing images→Det...   Slightly Important   \n",
       "2  (空)→Detailed Menu→Pricing→Restaurant Informati...       Very Important   \n",
       "3  Detailed Menu→Appealing images→Restaurant Info...       Very Important   \n",
       "4  Pricing→Appealing images→Discounts or Promotio...       Very Important   \n",
       "\n",
       "                    q5c                     q5d                  q5e  \\\n",
       "0   Extremely Important          Very Important       Very Important   \n",
       "1  Not Important at All    Not Important at All       Very Important   \n",
       "2        Very Important  Moderately Important         Very Important   \n",
       "3        Very Important          Very Important  Extremely Important   \n",
       "4        Very Important          Very Important       Very Important   \n",
       "\n",
       "                   q5f  ...                q6g             q6h      q7  \\\n",
       "0       Very Important  ...     Strongly Agree           Agree  Female   \n",
       "1   Slightly Important  ...  Strongly Disagree          Normal  Female   \n",
       "2  Extremely Important  ...     Strongly Agree  Strongly Agree  Female   \n",
       "3  Extremely Important  ...              Agree           Agree    Male   \n",
       "4  Extremely Important  ...              Agree           Agree  Female   \n",
       "\n",
       "        q8                 q9                    q10               q11  \\\n",
       "0  25 - 34  Bachelor's degree     Employed Part-Time    Very Satisfied   \n",
       "1  45 - 54     Primary school  Seeking opportunities         Satisfied   \n",
       "2  25 - 34  Bachelor's degree     Employed Part-Time            Normal   \n",
       "3  55 - 64     Primary school     Employed Full-Time  Very Unsatisfied   \n",
       "4  45 - 54     Primary school     Employed Part-Time         Satisfied   \n",
       "\n",
       "              q12       q13 Total  \n",
       "0       Satisfied     肥姐小食店    79  \n",
       "1          Normal      裕興咖啡    46  \n",
       "2       Satisfied      瑞記咖啡    83  \n",
       "3       Satisfied       靠得住    80  \n",
       "4  Very Satisfied  利強記北角雞蛋仔    85  \n",
       "\n",
       "[5 rows x 30 columns]"
      ]
     },
     "execution_count": 3,
     "metadata": {},
     "output_type": "execute_result"
    }
   ],
   "source": [
    "# Data Transformation\n",
    "# change columns label\n",
    "new_columns_label = ['q1', 'q2', 'q3', 'q4', 'q5a', 'q5b', 'q5c', 'q5d', 'q5e', 'q5f', 'q5g', 'q5h', 'q5i', 'q5j', 'q6a', 'q6b', 'q6c', 'q6d', 'q6e', 'q6f', 'q6g', 'q6h', 'q7', 'q8', 'q9', 'q10', 'q11', 'q12', 'q13', 'Total']\n",
    "df.columns = new_columns_label\n",
    "df.head()"
   ]
  },
  {
   "cell_type": "code",
   "execution_count": 4,
   "id": "3782c6ae-8283-43af-afb2-0cdccb6cd2be",
   "metadata": {
    "scrolled": true
   },
   "outputs": [],
   "source": [
    "# Data Transformation\n",
    "# change rows label\n",
    "pd.set_option('future.no_silent_downcasting', True)\n",
    "df['q2'] = df['q2'].replace({'I have used OpenRice.': 1, 'I have NOT used OpenRice.': 0}).infer_objects(copy=False)\n",
    "df['q3'] = df['q3'].replace({'I have commented restaurants.': 1, 'I have NOT commented restaurants.': 0}).infer_objects(copy=False)"
   ]
  },
  {
   "cell_type": "code",
   "execution_count": 5,
   "id": "8f9bbaba-2f00-483d-997f-6baf77608a99",
   "metadata": {
    "scrolled": true
   },
   "outputs": [],
   "source": [
    "# Splitting the data into a list using the '┋' delimiter\n",
    "df['q4'] = df['q4'].str.split('┋')\n",
    "# Splitting the data into a list using the '┋' delimiter\n",
    "df['q5a'] = df['q5a'].str.split('→')\n",
    "df['q5a'] = df['q5a'].apply(lambda lst: [item for item in lst if item != '(空)'])"
   ]
  },
  {
   "cell_type": "code",
   "execution_count": 6,
   "id": "726ece3c-4fbc-449c-9481-a8b6b15a3c2f",
   "metadata": {},
   "outputs": [
    {
     "data": {
      "text/plain": [
       "0      [Restaurant Information (e.g. Introduction, Ad...\n",
       "1      [Comments from Other Users, Appealing images, ...\n",
       "2      [Detailed Menu, Pricing, Restaurant Informatio...\n",
       "3      [Detailed Menu, Appealing images, Restaurant I...\n",
       "4      [Pricing, Appealing images, Discounts or Promo...\n",
       "                             ...                        \n",
       "197    [Pricing, Restaurant Information (e.g. Introdu...\n",
       "198    [Comments from Other Users, Detailed Menu, App...\n",
       "199    [Restaurant Information (e.g. Introduction, Ad...\n",
       "200    [Restaurant Information (e.g. Introduction, Ad...\n",
       "201    [Restaurant Information (e.g. Introduction, Ad...\n",
       "Name: q5a, Length: 202, dtype: object"
      ]
     },
     "execution_count": 6,
     "metadata": {},
     "output_type": "execute_result"
    }
   ],
   "source": [
    "df['q5a']"
   ]
  },
  {
   "cell_type": "code",
   "execution_count": 7,
   "id": "0063a73e-8ba7-4707-b08f-a3ce363c41b9",
   "metadata": {},
   "outputs": [
    {
     "name": "stdout",
     "output_type": "stream",
     "text": [
      "['Extremely Important' 'Slightly Important' 'Very Important'\n",
      " 'Moderately Important\\xa0\\xa0' 'Not Important at All']\n"
     ]
    }
   ],
   "source": [
    "print(df['q5b'].unique())"
   ]
  },
  {
   "cell_type": "code",
   "execution_count": 8,
   "id": "101f918b-bdd3-4a95-b38d-a26b1d1691fe",
   "metadata": {
    "scrolled": true
   },
   "outputs": [],
   "source": [
    "mapping = {'Not Important at All': 1, 'Slightly Important': 2, 'Moderately Important\\xa0\\xa0': 3,\n",
    "           'Very Important': 4, 'Extremely Important': 5}\n",
    "df['q5b'] = df['q5b'].map(mapping)\n",
    "df['q5b'] = df['q5b'].astype(int)\n",
    "df['q5c'] = df['q5c'].map(mapping)\n",
    "df['q5c'] = df['q5c'].astype(int)\n",
    "df['q5d'] = df['q5d'].map(mapping)\n",
    "df['q5d'] = df['q5d'].astype(int)\n",
    "df['q5e'] = df['q5e'].map(mapping)\n",
    "df['q5e'] = df['q5e'].astype(int)\n",
    "df['q5f'] = df['q5f'].map(mapping)\n",
    "df['q5f'] = df['q5f'].astype(int)\n",
    "df['q5g'] = df['q5g'].map(mapping)\n",
    "df['q5g'] = df['q5g'].astype(int)\n",
    "df['q5h'] = df['q5h'].map(mapping)\n",
    "df['q5h'] = df['q5h'].astype(int)\n",
    "df['q5i'] = df['q5i'].map(mapping)\n",
    "df['q5i'] = df['q5i'].astype(int)\n",
    "df['q5j'] = df['q5j'].map(mapping)\n",
    "df['q5j'] = df['q5j'].astype(int)"
   ]
  },
  {
   "cell_type": "code",
   "execution_count": 9,
   "id": "ab75ea2f-b573-44a3-8c7b-a8f9ac66a14a",
   "metadata": {},
   "outputs": [
    {
     "name": "stdout",
     "output_type": "stream",
     "text": [
      "['Normal' 'Agree' 'Strongly Agree' 'Disagree' 'Strongly Disagree']\n"
     ]
    }
   ],
   "source": [
    "print(df['q6a'].unique())"
   ]
  },
  {
   "cell_type": "code",
   "execution_count": 10,
   "id": "910d8520-9225-4c3e-971e-6f8dca658400",
   "metadata": {},
   "outputs": [],
   "source": [
    "mapping = {'Strongly Disagree': 1, 'Disagree': 2, 'Normal': 3, 'Agree': 4, 'Strongly Agree': 5}\n",
    "df['q6a'] = df['q6a'].map(mapping)\n",
    "df['q6a'] = df['q6a'].astype(int)\n",
    "df['q6c'] = df['q6c'].map(mapping)\n",
    "df['q6c'] = df['q6c'].astype(int)\n",
    "df['q6d'] = df['q6d'].map(mapping)\n",
    "df['q6d'] = df['q6d'].astype(int)\n",
    "df['q6f'] = df['q6f'].map(mapping)\n",
    "df['q6f'] = df['q6f'].astype(int)\n",
    "# Reverse part\n",
    "mapping = {'Strongly Disagree': 5, 'Disagree': 4, 'Normal': 3, 'Agree': 2, 'Strongly Agree': 1}\n",
    "df['q6b'] = df['q6b'].map(mapping)\n",
    "df['q6b'] = df['q6b'].astype(int)\n",
    "df['q6e'] = df['q6e'].map(mapping)\n",
    "df['q6e'] = df['q6e'].astype(int)\n",
    "df['q6g'] = df['q6g'].map(mapping)\n",
    "df['q6g'] = df['q6g'].astype(int)\n",
    "df['q6h'] = df['q6h'].map(mapping)\n",
    "df['q6h'] = df['q6h'].astype(int)"
   ]
  },
  {
   "cell_type": "code",
   "execution_count": 11,
   "id": "3b9637b6-a2cc-4357-9456-23844253a1dc",
   "metadata": {},
   "outputs": [],
   "source": [
    "df['emotional_total'] = df['q6a'] + df['q6c'] + df['q6d'] + df['q6f'] \n",
    "df['stable_total'] = df['q6b'] + df['q6e'] + df['q6g'] + df['q6h']\n",
    "df['personality'] = df.apply(lambda row: 'emotional' if row['emotional_total'] > row['stable_total'] else 'stable', axis=1)"
   ]
  },
  {
   "cell_type": "code",
   "execution_count": 12,
   "id": "f8f946a5-1314-46ef-90a3-80b986d0d582",
   "metadata": {},
   "outputs": [
    {
     "name": "stdout",
     "output_type": "stream",
     "text": [
      "['Female' 'Male']\n"
     ]
    }
   ],
   "source": [
    "print(df['q7'].unique())"
   ]
  },
  {
   "cell_type": "code",
   "execution_count": 13,
   "id": "3cf463eb-e5b6-4204-af37-86233f612597",
   "metadata": {},
   "outputs": [],
   "source": [
    "mapping = {'Male': 1, 'Female': 0}\n",
    "df['q7'] = df['q7'].map(mapping)\n",
    "df['q7'] = df['q7'].astype(int)"
   ]
  },
  {
   "cell_type": "code",
   "execution_count": 14,
   "id": "12acb2dd-28b2-4a83-afca-b599e31ad629",
   "metadata": {},
   "outputs": [
    {
     "name": "stdout",
     "output_type": "stream",
     "text": [
      "['25 - 34' '45 - 54' '55 - 64' '35 - 44' '0 - 14' '15 - 24' 'Above 64']\n"
     ]
    }
   ],
   "source": [
    "print(df['q8'].unique())"
   ]
  },
  {
   "cell_type": "code",
   "execution_count": 15,
   "id": "d0f23d7c-911a-433a-913f-02a4f163e93f",
   "metadata": {},
   "outputs": [],
   "source": [
    "mapping = {'0 - 14': 1, '0 - 18':1, '15 - 24': 2, '28 - 24':3, '25 - 34': 3, '35 - 44': 4, '45 - 54': 5, '55 - 64': 6, 'Above 64': 7}\n",
    "df['q8'] = df['q8'].map(mapping)"
   ]
  },
  {
   "cell_type": "code",
   "execution_count": 16,
   "id": "c7625ae2-c5f1-4fe3-ac7c-542ccae6f458",
   "metadata": {},
   "outputs": [
    {
     "name": "stdout",
     "output_type": "stream",
     "text": [
      "[\"Bachelor's degree\" 'Primary school'\n",
      " 'Doctoral degree (Ph.D., Ed.D., etc.)' 'Secondary school'\n",
      " 'Associate degree / Diploma' \"Master's degree\"]\n"
     ]
    }
   ],
   "source": [
    "print(df['q9'].unique())"
   ]
  },
  {
   "cell_type": "code",
   "execution_count": 17,
   "id": "5fa27464-0f45-4392-9d84-dfcfa51ef4b4",
   "metadata": {},
   "outputs": [],
   "source": [
    "mapping = {'Primary school': 1, 'Secondary school': 2, 'Associate degree / Diploma': 3, \"Bachelor's degree\": 4, \"Master's degree\": 5, 'Doctoral degree (Ph.D., Ed.D., etc.)': 6}\n",
    "df['q9'] = df['q9'].map(mapping)"
   ]
  },
  {
   "cell_type": "code",
   "execution_count": 18,
   "id": "682dc4f2-9084-4451-a33a-c069a40c7be9",
   "metadata": {
    "scrolled": true
   },
   "outputs": [
    {
     "name": "stdout",
     "output_type": "stream",
     "text": [
      "['Employed Part-Time' 'Seeking opportunities' 'Employed Full-Time'\n",
      " 'Student' 'Retired']\n"
     ]
    }
   ],
   "source": [
    "print(df['q10'].unique())"
   ]
  },
  {
   "cell_type": "code",
   "execution_count": 19,
   "id": "2c8e60b2-f8f1-4ab9-ac97-e9a69eb1229a",
   "metadata": {},
   "outputs": [],
   "source": [
    "mapping = {'Employed Full-Time': 1, 'Employed Part-Time': 2, 'Seeking opportunities': 3, \"Retired\": 4, \"Student\": 5}\n",
    "df['q10'] = df['q10'].map(mapping)"
   ]
  },
  {
   "cell_type": "code",
   "execution_count": 20,
   "id": "4f8ff64d-39ba-4d20-a6eb-ba11e183b0da",
   "metadata": {},
   "outputs": [
    {
     "name": "stdout",
     "output_type": "stream",
     "text": [
      "['Very Satisfied' 'Satisfied' 'Normal' 'Very Unsatisfied' 'Unsatisfied']\n"
     ]
    }
   ],
   "source": [
    "print(df['q11'].unique())"
   ]
  },
  {
   "cell_type": "code",
   "execution_count": 21,
   "id": "80f5574f-e282-4ec2-a36a-82b361134d32",
   "metadata": {},
   "outputs": [],
   "source": [
    "mapping = {'Very Unsatisfied': 1, 'Unsatisfied': 2, 'Normal': 3, \"Satisfied\": 4, \"Very Satisfied\": 5}\n",
    "df['q11'] = df['q11'].map(mapping)\n",
    "df['q12'] = df['q12'].map(mapping)"
   ]
  },
  {
   "cell_type": "code",
   "execution_count": 22,
   "id": "7b624256-9da8-422b-b341-ec2d66c7d896",
   "metadata": {},
   "outputs": [
    {
     "data": {
      "text/html": [
       "<div>\n",
       "<style scoped>\n",
       "    .dataframe tbody tr th:only-of-type {\n",
       "        vertical-align: middle;\n",
       "    }\n",
       "\n",
       "    .dataframe tbody tr th {\n",
       "        vertical-align: top;\n",
       "    }\n",
       "\n",
       "    .dataframe thead th {\n",
       "        text-align: right;\n",
       "    }\n",
       "</style>\n",
       "<table border=\"1\" class=\"dataframe\">\n",
       "  <thead>\n",
       "    <tr style=\"text-align: right;\">\n",
       "      <th></th>\n",
       "      <th>q1</th>\n",
       "      <th>q2</th>\n",
       "      <th>q3</th>\n",
       "      <th>q4</th>\n",
       "      <th>q5a</th>\n",
       "      <th>q5b</th>\n",
       "      <th>q5c</th>\n",
       "      <th>q5d</th>\n",
       "      <th>q5e</th>\n",
       "      <th>q5f</th>\n",
       "      <th>...</th>\n",
       "      <th>q8</th>\n",
       "      <th>q9</th>\n",
       "      <th>q10</th>\n",
       "      <th>q11</th>\n",
       "      <th>q12</th>\n",
       "      <th>q13</th>\n",
       "      <th>Total</th>\n",
       "      <th>emotional_total</th>\n",
       "      <th>stable_total</th>\n",
       "      <th>personality</th>\n",
       "    </tr>\n",
       "  </thead>\n",
       "  <tbody>\n",
       "    <tr>\n",
       "      <th>0</th>\n",
       "      <td>1</td>\n",
       "      <td>1</td>\n",
       "      <td>1</td>\n",
       "      <td>[Restaurant Information (e.g. Introduction, Ad...</td>\n",
       "      <td>[Restaurant Information (e.g. Introduction, Ad...</td>\n",
       "      <td>5</td>\n",
       "      <td>5</td>\n",
       "      <td>4</td>\n",
       "      <td>4</td>\n",
       "      <td>4</td>\n",
       "      <td>...</td>\n",
       "      <td>3</td>\n",
       "      <td>4</td>\n",
       "      <td>2</td>\n",
       "      <td>5</td>\n",
       "      <td>4</td>\n",
       "      <td>肥姐小食店</td>\n",
       "      <td>79</td>\n",
       "      <td>14</td>\n",
       "      <td>6</td>\n",
       "      <td>emotional</td>\n",
       "    </tr>\n",
       "    <tr>\n",
       "      <th>1</th>\n",
       "      <td>2</td>\n",
       "      <td>1</td>\n",
       "      <td>1</td>\n",
       "      <td>[Restaurant Information (e.g. Introduction, Ad...</td>\n",
       "      <td>[Comments from Other Users, Appealing images, ...</td>\n",
       "      <td>2</td>\n",
       "      <td>1</td>\n",
       "      <td>1</td>\n",
       "      <td>4</td>\n",
       "      <td>2</td>\n",
       "      <td>...</td>\n",
       "      <td>5</td>\n",
       "      <td>1</td>\n",
       "      <td>3</td>\n",
       "      <td>4</td>\n",
       "      <td>3</td>\n",
       "      <td>裕興咖啡</td>\n",
       "      <td>46</td>\n",
       "      <td>10</td>\n",
       "      <td>16</td>\n",
       "      <td>stable</td>\n",
       "    </tr>\n",
       "    <tr>\n",
       "      <th>2</th>\n",
       "      <td>3</td>\n",
       "      <td>1</td>\n",
       "      <td>1</td>\n",
       "      <td>[Restaurant Information (e.g. Introduction, Ad...</td>\n",
       "      <td>[Detailed Menu, Pricing, Restaurant Informatio...</td>\n",
       "      <td>4</td>\n",
       "      <td>4</td>\n",
       "      <td>3</td>\n",
       "      <td>4</td>\n",
       "      <td>5</td>\n",
       "      <td>...</td>\n",
       "      <td>3</td>\n",
       "      <td>4</td>\n",
       "      <td>2</td>\n",
       "      <td>3</td>\n",
       "      <td>4</td>\n",
       "      <td>瑞記咖啡</td>\n",
       "      <td>83</td>\n",
       "      <td>17</td>\n",
       "      <td>5</td>\n",
       "      <td>emotional</td>\n",
       "    </tr>\n",
       "    <tr>\n",
       "      <th>3</th>\n",
       "      <td>4</td>\n",
       "      <td>1</td>\n",
       "      <td>1</td>\n",
       "      <td>[Pricing, Appealing images, Detailed Menu]</td>\n",
       "      <td>[Detailed Menu, Appealing images, Restaurant I...</td>\n",
       "      <td>4</td>\n",
       "      <td>4</td>\n",
       "      <td>4</td>\n",
       "      <td>5</td>\n",
       "      <td>5</td>\n",
       "      <td>...</td>\n",
       "      <td>6</td>\n",
       "      <td>1</td>\n",
       "      <td>1</td>\n",
       "      <td>1</td>\n",
       "      <td>4</td>\n",
       "      <td>靠得住</td>\n",
       "      <td>80</td>\n",
       "      <td>18</td>\n",
       "      <td>7</td>\n",
       "      <td>emotional</td>\n",
       "    </tr>\n",
       "    <tr>\n",
       "      <th>4</th>\n",
       "      <td>5</td>\n",
       "      <td>1</td>\n",
       "      <td>1</td>\n",
       "      <td>[Restaurant Information (e.g. Introduction, Ad...</td>\n",
       "      <td>[Pricing, Appealing images, Discounts or Promo...</td>\n",
       "      <td>4</td>\n",
       "      <td>4</td>\n",
       "      <td>4</td>\n",
       "      <td>4</td>\n",
       "      <td>5</td>\n",
       "      <td>...</td>\n",
       "      <td>5</td>\n",
       "      <td>1</td>\n",
       "      <td>2</td>\n",
       "      <td>4</td>\n",
       "      <td>5</td>\n",
       "      <td>利強記北角雞蛋仔</td>\n",
       "      <td>85</td>\n",
       "      <td>18</td>\n",
       "      <td>6</td>\n",
       "      <td>emotional</td>\n",
       "    </tr>\n",
       "  </tbody>\n",
       "</table>\n",
       "<p>5 rows × 33 columns</p>\n",
       "</div>"
      ],
      "text/plain": [
       "   q1  q2  q3                                                 q4  \\\n",
       "0   1   1   1  [Restaurant Information (e.g. Introduction, Ad...   \n",
       "1   2   1   1  [Restaurant Information (e.g. Introduction, Ad...   \n",
       "2   3   1   1  [Restaurant Information (e.g. Introduction, Ad...   \n",
       "3   4   1   1         [Pricing, Appealing images, Detailed Menu]   \n",
       "4   5   1   1  [Restaurant Information (e.g. Introduction, Ad...   \n",
       "\n",
       "                                                 q5a  q5b  q5c  q5d  q5e  q5f  \\\n",
       "0  [Restaurant Information (e.g. Introduction, Ad...    5    5    4    4    4   \n",
       "1  [Comments from Other Users, Appealing images, ...    2    1    1    4    2   \n",
       "2  [Detailed Menu, Pricing, Restaurant Informatio...    4    4    3    4    5   \n",
       "3  [Detailed Menu, Appealing images, Restaurant I...    4    4    4    5    5   \n",
       "4  [Pricing, Appealing images, Discounts or Promo...    4    4    4    4    5   \n",
       "\n",
       "   ...  q8  q9  q10  q11  q12       q13  Total  emotional_total  stable_total  \\\n",
       "0  ...   3   4    2    5    4     肥姐小食店     79               14             6   \n",
       "1  ...   5   1    3    4    3      裕興咖啡     46               10            16   \n",
       "2  ...   3   4    2    3    4      瑞記咖啡     83               17             5   \n",
       "3  ...   6   1    1    1    4       靠得住     80               18             7   \n",
       "4  ...   5   1    2    4    5  利強記北角雞蛋仔     85               18             6   \n",
       "\n",
       "   personality  \n",
       "0    emotional  \n",
       "1       stable  \n",
       "2    emotional  \n",
       "3    emotional  \n",
       "4    emotional  \n",
       "\n",
       "[5 rows x 33 columns]"
      ]
     },
     "execution_count": 22,
     "metadata": {},
     "output_type": "execute_result"
    }
   ],
   "source": [
    "df.head()"
   ]
  },
  {
   "cell_type": "code",
   "execution_count": 23,
   "id": "96346811-149d-409f-8bd1-f43d5ade402a",
   "metadata": {},
   "outputs": [],
   "source": [
    "# Save the processed data to a new CSV file\n",
    "df.to_csv('processed_dataset.csv', index=False)"
   ]
  },
  {
   "cell_type": "code",
   "execution_count": 24,
   "id": "d8a001f4-47f9-4029-84ef-924663e2fe2a",
   "metadata": {},
   "outputs": [],
   "source": [
    "import pandas as pd\n",
    "import numpy as np\n",
    "\n",
    "# 读取数据\n",
    "df1 = pd.read_csv('processed_dataset.csv')\n",
    "df2 = pd.read_excel('data for WebScraping.xlsx')\n",
    "\n",
    "# 合并两个 DataFrame\n",
    "merged_df = pd.merge(df1, df2, left_on='q13', right_on='q13', how='left')\n",
    "\n",
    "duplicates = merged_df.duplicated()\n",
    "merged_df[duplicates]\n",
    "\n",
    "merged_df.drop_duplicates(inplace=True)\n",
    "\n",
    "# 保存合并后的 DataFrame\n",
    "merged_df.to_csv('merged_dataset.csv', index=False)"
   ]
  },
  {
   "cell_type": "code",
   "execution_count": null,
   "id": "97c3a9db-0d2a-43b9-b361-0dbe4fa72136",
   "metadata": {},
   "outputs": [],
   "source": []
  },
  {
   "cell_type": "code",
   "execution_count": null,
   "id": "c2488d99-d5bf-40bf-b610-e396813f0e4f",
   "metadata": {},
   "outputs": [],
   "source": []
  }
 ],
 "metadata": {
  "kernelspec": {
   "display_name": "Python 3 (ipykernel)",
   "language": "python",
   "name": "python3"
  },
  "language_info": {
   "codemirror_mode": {
    "name": "ipython",
    "version": 3
   },
   "file_extension": ".py",
   "mimetype": "text/x-python",
   "name": "python",
   "nbconvert_exporter": "python",
   "pygments_lexer": "ipython3",
   "version": "3.12.1"
  }
 },
 "nbformat": 4,
 "nbformat_minor": 5
}
